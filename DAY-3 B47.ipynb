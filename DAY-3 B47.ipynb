{
 "cells": [
  {
   "cell_type": "code",
   "execution_count": 2,
   "id": "44418118",
   "metadata": {},
   "outputs": [
    {
     "name": "stdout",
     "output_type": "stream",
     "text": [
      "naser\n"
     ]
    }
   ],
   "source": [
    "name = 'naser'\n",
    "print(name)"
   ]
  },
  {
   "cell_type": "code",
   "execution_count": 3,
   "id": "0c5a44ba",
   "metadata": {},
   "outputs": [
    {
     "data": {
      "text/plain": [
       "str"
      ]
     },
     "execution_count": 3,
     "metadata": {},
     "output_type": "execute_result"
    }
   ],
   "source": [
    "type(name)"
   ]
  },
  {
   "cell_type": "code",
   "execution_count": 5,
   "id": "323c1059",
   "metadata": {},
   "outputs": [
    {
     "name": "stdout",
     "output_type": "stream",
     "text": [
      "md ibrahim\n"
     ]
    }
   ],
   "source": [
    "full_name = 'md ibrahim'\n",
    "print(full_name)"
   ]
  },
  {
   "cell_type": "code",
   "execution_count": 7,
   "id": "0d32256d",
   "metadata": {},
   "outputs": [
    {
     "name": "stdout",
     "output_type": "stream",
     "text": [
      "Md Ibrahim\n"
     ]
    }
   ],
   "source": [
    "print(full_name.title())"
   ]
  },
  {
   "cell_type": "code",
   "execution_count": 8,
   "id": "098d7632",
   "metadata": {},
   "outputs": [
    {
     "name": "stdout",
     "output_type": "stream",
     "text": [
      "MD IBRAHIM\n"
     ]
    }
   ],
   "source": [
    "print(full_name.upper())"
   ]
  },
  {
   "cell_type": "code",
   "execution_count": 9,
   "id": "ee437ba9",
   "metadata": {},
   "outputs": [
    {
     "name": "stdout",
     "output_type": "stream",
     "text": [
      "md ibrahim\n"
     ]
    }
   ],
   "source": [
    "print(full_name.lower())"
   ]
  },
  {
   "cell_type": "code",
   "execution_count": 25,
   "id": "15c5a3e9",
   "metadata": {},
   "outputs": [],
   "source": [
    "firstname = 'naser'\n",
    "lastname = 'raheem'"
   ]
  },
  {
   "cell_type": "code",
   "execution_count": 27,
   "id": "fcfb7d58",
   "metadata": {},
   "outputs": [
    {
     "name": "stdout",
     "output_type": "stream",
     "text": [
      "naser raheem\n"
     ]
    }
   ],
   "source": [
    "fullname = f\"{firstname} {lastname}\"\n",
    "\n",
    "print(fullname)"
   ]
  },
  {
   "cell_type": "code",
   "execution_count": 32,
   "id": "4e3bc4a5",
   "metadata": {},
   "outputs": [],
   "source": [
    "firstname = 'mohammed'\n",
    "lastname = 'qureshi'\n",
    "middlename= 'raza'"
   ]
  },
  {
   "cell_type": "code",
   "execution_count": 33,
   "id": "580c3e65",
   "metadata": {},
   "outputs": [
    {
     "name": "stdout",
     "output_type": "stream",
     "text": [
      "mohammed raza qureshi\n"
     ]
    }
   ],
   "source": [
    "fullname = f\"{firstname} {middlename} {lastname}\"\n",
    "\n",
    "print(fullname)"
   ]
  },
  {
   "cell_type": "code",
   "execution_count": 34,
   "id": "fee1db47",
   "metadata": {},
   "outputs": [
    {
     "name": "stdout",
     "output_type": "stream",
     "text": [
      "Mohammed Raza Qureshi\n"
     ]
    }
   ],
   "source": [
    "print(fullname.title())"
   ]
  },
  {
   "cell_type": "code",
   "execution_count": 35,
   "id": "307a20b5",
   "metadata": {},
   "outputs": [
    {
     "name": "stdout",
     "output_type": "stream",
     "text": [
      "my_hobbies:learningnewlanguageaddingskillssurfingnet\n"
     ]
    }
   ],
   "source": [
    "print(\"my_hobbies:learningnewlanguageaddingskillssurfingnet\")"
   ]
  },
  {
   "cell_type": "code",
   "execution_count": 36,
   "id": "09c4c91e",
   "metadata": {},
   "outputs": [
    {
     "name": "stdout",
     "output_type": "stream",
     "text": [
      "my_hobbies:\n",
      "learningnewlanguage\n",
      "addingskills\n",
      "surfingnet\n"
     ]
    }
   ],
   "source": [
    "print(\"my_hobbies:\\nlearningnewlanguage\\naddingskills\\nsurfingnet\")"
   ]
  },
  {
   "cell_type": "code",
   "execution_count": 38,
   "id": "a88d8597",
   "metadata": {},
   "outputs": [
    {
     "name": "stdout",
     "output_type": "stream",
     "text": [
      "my_hobbies:\n",
      "\tlearningnewlanguage\n",
      "\taddingskills\n",
      "\tsurfingnet\n"
     ]
    }
   ],
   "source": [
    "print(\"my_hobbies:\\n\\tlearningnewlanguage\\n\\taddingskills\\n\\tsurfingnet\")"
   ]
  },
  {
   "cell_type": "code",
   "execution_count": null,
   "id": "3d2fba93",
   "metadata": {},
   "outputs": [],
   "source": []
  }
 ],
 "metadata": {
  "kernelspec": {
   "display_name": "Python 3",
   "language": "python",
   "name": "python3"
  },
  "language_info": {
   "codemirror_mode": {
    "name": "ipython",
    "version": 3
   },
   "file_extension": ".py",
   "mimetype": "text/x-python",
   "name": "python",
   "nbconvert_exporter": "python",
   "pygments_lexer": "ipython3",
   "version": "3.8.8"
  }
 },
 "nbformat": 4,
 "nbformat_minor": 5
}
